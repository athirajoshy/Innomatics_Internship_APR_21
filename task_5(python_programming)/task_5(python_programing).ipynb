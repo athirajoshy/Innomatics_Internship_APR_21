{
 "cells": [
  {
   "cell_type": "markdown",
   "metadata": {},
   "source": [
    "# Detect Floating Point Number\n",
    "\n"
   ]
  },
  {
   "cell_type": "code",
   "execution_count": null,
   "metadata": {},
   "outputs": [
    {
     "name": "stdout",
     "output_type": "stream",
     "text": [
      "4\n",
      "4.000 -1.000 +23 random\n",
      "False\n"
     ]
    }
   ],
   "source": [
    "import re\n",
    "n=int(input())\n",
    "pattern=r'^[+-]?[0-9]*\\.[0-9]+$'\n",
    "\n",
    "for i in range(n):\n",
    "    s=input()\n",
    "    print(bool(re.match(pattern,s)))"
   ]
  },
  {
   "cell_type": "markdown",
   "metadata": {},
   "source": [
    "# re.split"
   ]
  },
  {
   "cell_type": "code",
   "execution_count": 1,
   "metadata": {},
   "outputs": [
    {
     "name": "stdout",
     "output_type": "stream",
     "text": [
      "100,000,000.000\n",
      "100\n",
      "000\n",
      "000\n",
      "000\n"
     ]
    }
   ],
   "source": [
    "regex_pattern = r\"[,.]\"\n",
    "\n",
    "import re\n",
    "print(\"\\n\".join(re.split(regex_pattern,input())))\n"
   ]
  },
  {
   "cell_type": "markdown",
   "metadata": {},
   "source": [
    "# Group(), Groups() & Groupdict()\n",
    "\n"
   ]
  },
  {
   "cell_type": "code",
   "execution_count": 2,
   "metadata": {},
   "outputs": [
    {
     "name": "stdout",
     "output_type": "stream",
     "text": [
      "enter the string.12345678910111213141516171820212223\n",
      "1\n"
     ]
    }
   ],
   "source": [
    "import re \n",
    "s=input(\"enter the string\")\n",
    "p=r'([a-z A-Z 0-9])\\1'\n",
    "m=re.search(p,s)\n",
    "\n",
    "if m:\n",
    "    print(m.groups()[0])\n",
    "    \n",
    "else:\n",
    "    print(-1)"
   ]
  },
  {
   "cell_type": "markdown",
   "metadata": {},
   "source": [
    "# Re.findall() & Re.finditer()\n",
    "\n"
   ]
  },
  {
   "cell_type": "code",
   "execution_count": 1,
   "metadata": {},
   "outputs": [
    {
     "name": "stdout",
     "output_type": "stream",
     "text": [
      "rabcdeefgyYhFjkIoomnpOeorteeeeet\n",
      "ee\n",
      "Ioo\n",
      "Oeo\n",
      "eeeee\n",
      "<built-in method join of str object at 0x000001C1D3A8E2F0>\n"
     ]
    }
   ],
   "source": [
    "import re\n",
    "s=input()\n",
    "v='aeiou'\n",
    "c='qwrtypsdfghjklzxcvbnm'\n",
    "\n",
    "l=re.findall(r\"(?<=[%s])([%s]{2,})[%s]\" %(c,v,c),s,flags=re.IGNORECASE)\n",
    "\n",
    "if not l:\n",
    "    print(-1)\n",
    "    \n",
    "else:\n",
    "    for i in l:\n",
    "        print(i)\n",
    "print(\"\\n\".join)"
   ]
  },
  {
   "cell_type": "markdown",
   "metadata": {},
   "source": [
    "# Re.start() & Re.end()\n",
    "\n"
   ]
  },
  {
   "cell_type": "code",
   "execution_count": 4,
   "metadata": {},
   "outputs": [
    {
     "name": "stdout",
     "output_type": "stream",
     "text": [
      "enter the stringaaadaa\n",
      "enter the substringaa\n",
      "(0,1)\n",
      "(1,2)\n",
      "(4,5)\n"
     ]
    }
   ],
   "source": [
    "import re\n",
    "s=input(\"enter the string\")\n",
    "k=input(\"enter the substring\")\n",
    "\n",
    "p=re.compile(k)\n",
    "\n",
    "m=p.search(s)\n",
    "\n",
    "if not m:\n",
    "    print(\"(-1,-1)\")\n",
    "    \n",
    "else:\n",
    "    while m:\n",
    "        print(\"({0},{1})\".format(m.start(),m.end()-1))\n",
    "        m=p.search(s,m.start()+1)"
   ]
  },
  {
   "cell_type": "markdown",
   "metadata": {},
   "source": [
    "# Regex Substitution\n",
    "\n"
   ]
  },
  {
   "cell_type": "code",
   "execution_count": null,
   "metadata": {},
   "outputs": [],
   "source": [
    "import re\n",
    "p=r\"(?<=)(&&|\\|\\|)(?=)\"\n",
    "\n",
    "re=lambda x:\"and\" if x.group()==\"&&\"else\"or\"\n",
    "\n",
    "for i in range(int(input())):\n",
    "    s=input()\n",
    "    print(re.sub(p,re,s))"
   ]
  },
  {
   "cell_type": "markdown",
   "metadata": {},
   "source": [
    "# Validating Roman Numerals"
   ]
  },
  {
   "cell_type": "code",
   "execution_count": 1,
   "metadata": {},
   "outputs": [
    {
     "name": "stdout",
     "output_type": "stream",
     "text": [
      "CDXXI\n",
      "True\n"
     ]
    }
   ],
   "source": [
    "thousands='M{0,3}'\n",
    "hundreds='(CM|CD|D?C{0,3})'\n",
    "tens='(XC|XL|L?X{0,3})'\n",
    "digits='(IX|IV|V?I{0,3})'\n",
    "regex_pattern=r\"%s%s%s%s\" %(thousands,hundreds,tens,digits)\n",
    "\n",
    "import re\n",
    "print(str(bool(re.match(regex_pattern,input()))))"
   ]
  },
  {
   "cell_type": "markdown",
   "metadata": {},
   "source": [
    "# Validating phone numbers"
   ]
  },
  {
   "cell_type": "code",
   "execution_count": 2,
   "metadata": {},
   "outputs": [
    {
     "name": "stdout",
     "output_type": "stream",
     "text": [
      "2\n",
      "9587456281\n",
      "yes\n",
      "1252478965\n",
      "no\n"
     ]
    }
   ],
   "source": [
    "n=int(input())\n",
    "for i in range(n):\n",
    "    a=str(input())\n",
    "    if(len(a)==10):\n",
    "        if (a.isnumeric()):\n",
    "            if(a[0]==\"7\" or a[0]==\"8\" or a[0]==\"9\"):\n",
    "                print(\"yes\")\n",
    "            else:\n",
    "                print(\"no\")\n",
    "        else:\n",
    "            print(\"no\")\n",
    "            \n",
    "    else:\n",
    "        print(\"no\")"
   ]
  },
  {
   "cell_type": "code",
   "execution_count": null,
   "metadata": {},
   "outputs": [],
   "source": []
  }
 ],
 "metadata": {
  "kernelspec": {
   "display_name": "Python 3",
   "language": "python",
   "name": "python3"
  },
  "language_info": {
   "codemirror_mode": {
    "name": "ipython",
    "version": 3
   },
   "file_extension": ".py",
   "mimetype": "text/x-python",
   "name": "python",
   "nbconvert_exporter": "python",
   "pygments_lexer": "ipython3",
   "version": "3.8.5"
  }
 },
 "nbformat": 4,
 "nbformat_minor": 4
}
