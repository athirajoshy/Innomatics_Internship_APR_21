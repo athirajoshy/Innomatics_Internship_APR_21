{
 "cells": [
  {
   "cell_type": "markdown",
   "metadata": {},
   "source": [
    "# 1)list comprehension"
   ]
  },
  {
   "cell_type": "code",
   "execution_count": 2,
   "metadata": {},
   "outputs": [
    {
     "name": "stdout",
     "output_type": "stream",
     "text": [
      "enter the number1\n",
      "enter the number1\n",
      "enter the number1\n",
      "enter the number2\n",
      "[[0, 0, 0], [0, 0, 1], [0, 1, 0], [1, 0, 0], [1, 1, 1]]\n"
     ]
    }
   ],
   "source": [
    "x=int(input(\"enter the number\"))\n",
    "y=int(input(\"enter the number\"))\n",
    "z=int(input(\"enter the number\"))\n",
    "n=int(input(\"enter the number\"))\n",
    "\n",
    "l=list()\n",
    "\n",
    "for i in range(x+1):\n",
    "    for j in range(y+1):\n",
    "        for k in range(z+1):\n",
    "            if(i+j+k!=n):\n",
    "                l.append([i,j,k])\n",
    "print(l)                       \n"
   ]
  },
  {
   "cell_type": "markdown",
   "metadata": {},
   "source": [
    "# Q2)runnerup score"
   ]
  },
  {
   "cell_type": "code",
   "execution_count": 28,
   "metadata": {},
   "outputs": [
    {
     "name": "stdout",
     "output_type": "stream",
     "text": [
      "enter the num5\n",
      "enter numbers to list2 3 5 7 9\n",
      "[2, 3, 5, 7, 9]\n",
      "runner up is 7\n"
     ]
    }
   ],
   "source": [
    "n=int(input(\"enter the num\"))\n",
    "s=list(map(int,input(\"enter numbers to list\").split()))\n",
    "\n",
    "s.sort()\n",
    "print(s)\n",
    "\n",
    "print(\"runner up is\",s[-2])"
   ]
  },
  {
   "cell_type": "markdown",
   "metadata": {},
   "source": [
    "# 3)nested list"
   ]
  },
  {
   "cell_type": "code",
   "execution_count": null,
   "metadata": {},
   "outputs": [],
   "source": []
  },
  {
   "cell_type": "markdown",
   "metadata": {},
   "source": [
    "# 4)finding the percentage"
   ]
  },
  {
   "cell_type": "code",
   "execution_count": 2,
   "metadata": {},
   "outputs": [
    {
     "name": "stdout",
     "output_type": "stream",
     "text": [
      "enter the number of students3\n",
      "enter name and 3 marksathira 5 6 7\n",
      "enter name and 3 marksprajeesh 7 6 2\n",
      "enter name and 3 marksrishi 3 9 10\n",
      "enter the name to calculate averagerishi\n",
      "[3.0, 9.0, 10.0]\n",
      "average 7.33\n"
     ]
    }
   ],
   "source": [
    "n=int(input(\"enter the number of students\"))\n",
    "stud_marks={}\n",
    "\n",
    "for i in range(n):\n",
    "    name,*marks=input(\"enter name and 3 marks\").split()\n",
    "    scores=list(map(float,marks))\n",
    "    stud_marks[name]=scores\n",
    "\n",
    "query=input(\"enter the name to calculate average\")\n",
    "\n",
    "v=stud_marks[query]\n",
    "print(v)\n",
    "\n",
    "print(\"average\",format(sum(v)/3,'.2f'))"
   ]
  },
  {
   "cell_type": "markdown",
   "metadata": {},
   "source": [
    "# 5)lists"
   ]
  },
  {
   "cell_type": "code",
   "execution_count": 9,
   "metadata": {},
   "outputs": [
    {
     "name": "stdout",
     "output_type": "stream",
     "text": [
      "enter the number of commands3\n",
      "enter the commandinsert 2 3\n",
      "[2, 3, 3]\n",
      "enter the commandpop\n",
      "[2, 3]\n",
      "enter the commandreverse\n",
      "[3, 2]\n"
     ]
    }
   ],
   "source": [
    "n=int(input(\"enter the number of commands\"))\n",
    "\n",
    "arr=[2,3]\n",
    "    \n",
    "for i in range(n):\n",
    "        s=input(\"enter the command\").split()\n",
    "        \n",
    "        \n",
    "        for i in range(1,len(s)):\n",
    "            s[i]=int(s[i])\n",
    "            \n",
    "        if s[0]==\"append\":\n",
    "            arr.append(s[1])\n",
    "            print(arr)\n",
    "            \n",
    "        elif s[0]==\"insert\":\n",
    "            arr.insert(s[1],s[2])\n",
    "            print(arr)\n",
    "            \n",
    "        elif s[0]==\"remove\":\n",
    "            arr.remove(s[1])\n",
    "            print(arr)\n",
    "            \n",
    "        elif s[0]==\"pop\":\n",
    "            arr.pop()\n",
    "            print(arr)\n",
    "            \n",
    "        elif s[0]==\"sort\":\n",
    "            arr.sort()\n",
    "            print(arr)\n",
    "            \n",
    "        elif s[0]==\"reverse\":\n",
    "            arr.reverse()\n",
    "            print(arr)\n",
    "            \n",
    "            \n",
    "        elif s[0]==\"print\":\n",
    "            print(array)"
   ]
  },
  {
   "cell_type": "markdown",
   "metadata": {},
   "source": [
    "# 6) tuple"
   ]
  },
  {
   "cell_type": "code",
   "execution_count": 10,
   "metadata": {},
   "outputs": [
    {
     "name": "stdout",
     "output_type": "stream",
     "text": [
      "enter the range3\n",
      "2 3 7\n",
      "558623462660616569\n"
     ]
    }
   ],
   "source": [
    "n=int(input(\"enter the range\"))\n",
    "tup=tuple(map(int,input().split()))\n",
    "print(hash(tup))"
   ]
  },
  {
   "cell_type": "markdown",
   "metadata": {},
   "source": [
    "# 7)introduction to set"
   ]
  },
  {
   "cell_type": "code",
   "execution_count": 11,
   "metadata": {},
   "outputs": [
    {
     "name": "stdout",
     "output_type": "stream",
     "text": [
      "enter the size of array3\n",
      "1 2 3\n",
      "2.0\n"
     ]
    }
   ],
   "source": [
    "\n",
    "\n",
    "def average(a):\n",
    "    s=set(a)\n",
    "    y=sum(s)/len(a)\n",
    "    return y\n",
    "\n",
    "n=int(input(\"enter the size of array\"))\n",
    "a=list(map(int,input().split()))\n",
    "\n",
    "result=average(a)\n",
    "print(result)"
   ]
  },
  {
   "cell_type": "markdown",
   "metadata": {},
   "source": [
    "# 8) no_idea"
   ]
  },
  {
   "cell_type": "code",
   "execution_count": 27,
   "metadata": {},
   "outputs": [
    {
     "name": "stdout",
     "output_type": "stream",
     "text": [
      "enter numbers to list2 3 4 6 8 1\n",
      "enter the num of integers in sets5\n",
      "1 2 66 88 56 \n",
      "3\n",
      "1\n"
     ]
    }
   ],
   "source": [
    "happiness=0\n",
    "\n",
    "s=list(map(int,input(\"enter numbers to list\").split()))\n",
    "\n",
    "n=int(input(\"enter the num of integers in sets\"))\n",
    "\n",
    "a=set(map(int,input().split()))\n",
    "\n",
    "b=set(map(int,input().split()))\n",
    "\n",
    "for i in s:\n",
    "    if i in a:\n",
    "        happiness+=1\n",
    "    if i in b:\n",
    "        happiness-=1\n",
    "        \n",
    "print(happiness)        \n",
    "\n",
    "\n"
   ]
  },
  {
   "cell_type": "markdown",
   "metadata": {},
   "source": [
    "# 9)symmetric_difference"
   ]
  },
  {
   "cell_type": "code",
   "execution_count": 19,
   "metadata": {},
   "outputs": [
    {
     "name": "stdout",
     "output_type": "stream",
     "text": [
      "enter the size4\n",
      "2 4 5 9\n",
      "enter the size4\n",
      "2 4 11 12\n",
      "{2, 4, 5, 9, 11, 12}\n",
      "[5, 9, 11, 12]\n",
      "5\n",
      "9\n",
      "11\n",
      "12\n"
     ]
    }
   ],
   "source": [
    "m=int(input(\"enter the size\"))\n",
    "M=set(map(int,input().split()))\n",
    "\n",
    "n=int(input(\"enter the size\"))\n",
    "N=set(map(int,input().split()))\n",
    "\n",
    "x=M.union(N)\n",
    "print(x)\n",
    "\n",
    "l=[]\n",
    "for i in x:\n",
    "    if i in M and i in N:\n",
    "        pass\n",
    "    else:\n",
    "        l.append(i)\n",
    "        \n",
    "print(l)\n",
    "l.sort()\n",
    "\n",
    "for i in l:\n",
    "    print(i)\n",
    "        \n",
    "\n",
    "\n",
    "\n",
    "\n"
   ]
  },
  {
   "cell_type": "markdown",
   "metadata": {},
   "source": [
    "# 10)set.add()"
   ]
  },
  {
   "cell_type": "code",
   "execution_count": 4,
   "metadata": {},
   "outputs": [
    {
     "name": "stdout",
     "output_type": "stream",
     "text": [
      "size of set4\n",
      "4\n",
      "enter the country name(n counts)ind\n",
      "enter the country name(n counts)ind\n",
      "enter the country name(n counts)aus\n",
      "enter the country name(n counts)pak\n",
      "{'aus', 'pak', 'ind'}\n",
      "distinct countries 3\n"
     ]
    }
   ],
   "source": [
    "n=int(input(\"size of set\"))\n",
    "print(n)\n",
    "s=set()\n",
    "\n",
    "for i in range(n):\n",
    "    s.add(input(\"enter the country name(n counts)\"))\n",
    "print(s)\n",
    "print(\"distinct countries\",len(s))\n",
    "    "
   ]
  },
  {
   "cell_type": "code",
   "execution_count": 21,
   "metadata": {},
   "outputs": [
    {
     "name": "stdout",
     "output_type": "stream",
     "text": [
      "{'newzeland', 'australia', 'india'}\n"
     ]
    }
   ],
   "source": [
    "l=['india','australia','india','australia','newzeland']\n",
    "l1=set(l)\n",
    "print(l1)"
   ]
  },
  {
   "cell_type": "code",
   "execution_count": 22,
   "metadata": {},
   "outputs": [
    {
     "data": {
      "text/plain": [
       "3"
      ]
     },
     "execution_count": 22,
     "metadata": {},
     "output_type": "execute_result"
    }
   ],
   "source": [
    "len(l1)"
   ]
  },
  {
   "cell_type": "markdown",
   "metadata": {},
   "source": [
    "# 11)set.discard()remove()pop()"
   ]
  },
  {
   "cell_type": "code",
   "execution_count": 1,
   "metadata": {},
   "outputs": [
    {
     "name": "stdout",
     "output_type": "stream",
     "text": [
      "enter the length5\n",
      "2 55 8 3 7\n",
      "the num of commands3\n",
      "remove 7\n",
      "['remove', '7']\n",
      "pop\n",
      "['pop']\n",
      "discard 2\n",
      "['discard', '2']\n",
      "66\n"
     ]
    }
   ],
   "source": [
    "#answer\n",
    "n=int(input(\"enter the length\"))\n",
    "s=set(map(int,input().split()))\n",
    "x=int(input(\"the num of commands\"))\n",
    "\n",
    "for i in range(x):\n",
    "    y=input().split()\n",
    "    print(y)\n",
    "    if len(y)>1:\n",
    "        m=int(y[1])\n",
    "    if y[0]=='pop':\n",
    "        s.pop()\n",
    "    if y[0]=='remove':\n",
    "        s.remove(m)  \n",
    "    if y[0]=='discard':\n",
    "        s.discard(m)  \n",
    "print(sum(s))        "
   ]
  },
  {
   "cell_type": "markdown",
   "metadata": {},
   "source": [
    "# 12)set.union()"
   ]
  },
  {
   "cell_type": "code",
   "execution_count": 12,
   "metadata": {},
   "outputs": [
    {
     "name": "stdout",
     "output_type": "stream",
     "text": [
      "enter the num of students subscribed eng5\n",
      "1 2 3 4 5\n",
      "enter the num of students subscribed french5\n",
      "4 5 6 7 8\n",
      "{1, 2, 3, 4, 5, 6, 7, 8}\n",
      "8\n"
     ]
    }
   ],
   "source": [
    "ne=int(input(\"enter the num of students subscribed eng\"))\n",
    "e=set(map(int,input().split()))\n",
    "\n",
    "nf=int(input(\"enter the num of students subscribed french\"))\n",
    "f=set(map(int,input().split()))\n",
    "\n",
    "\n",
    "both=e|f\n",
    "print(both)\n",
    "print(len(both))\n",
    "\n",
    " "
   ]
  },
  {
   "cell_type": "markdown",
   "metadata": {},
   "source": [
    "# 13)set.intersection"
   ]
  },
  {
   "cell_type": "code",
   "execution_count": 15,
   "metadata": {},
   "outputs": [
    {
     "name": "stdout",
     "output_type": "stream",
     "text": [
      "enter the num of students subscribed eng5\n",
      "1 2 3 4 5\n",
      "enter the num of students subscribed french5\n",
      "3 4 5 6 7\n",
      "{3, 4, 5}\n",
      " number of students who purchased both 3\n"
     ]
    }
   ],
   "source": [
    "n=int(input(\"enter the num of students subscribed eng\"))\n",
    "e=set(map(int,input().split()))\n",
    "\n",
    "b=int(input(\"enter the num of students subscribed french\"))\n",
    "f=set(map(int,input().split()))\n",
    "\n",
    "both=e.intersection(f)\n",
    "\n",
    "print(both)\n",
    "\n",
    "print(\" number of students who purchased both\",len(both))\n"
   ]
  },
  {
   "cell_type": "markdown",
   "metadata": {},
   "source": [
    "# 14)set.difference()"
   ]
  },
  {
   "cell_type": "code",
   "execution_count": 18,
   "metadata": {},
   "outputs": [
    {
     "name": "stdout",
     "output_type": "stream",
     "text": [
      "enter the num of students subscribed eng5\n",
      "1 2 3 4 5 \n",
      "enter the num of students subscribed french5\n",
      "3 4 5 6 7 \n",
      "roll of students purchasing only eng {1, 2}\n",
      " number of students who purchased only english 2\n"
     ]
    }
   ],
   "source": [
    "n=int(input(\"enter the num of students subscribed eng\"))\n",
    "e=set(map(int,input().split()))\n",
    "\n",
    "b=int(input(\"enter the num of students subscribed french\"))\n",
    "f=set(map(int,input().split()))\n",
    "\n",
    "\n",
    "diff=e.difference(f)\n",
    "print(\"roll of students purchasing only eng\",diff)\n",
    "\n",
    "print(\" number of students who purchased only english\",len(diff))\n"
   ]
  },
  {
   "cell_type": "markdown",
   "metadata": {},
   "source": [
    "# 15) set.symmetric_difference()"
   ]
  },
  {
   "cell_type": "code",
   "execution_count": 21,
   "metadata": {
    "scrolled": true
   },
   "outputs": [
    {
     "name": "stdout",
     "output_type": "stream",
     "text": [
      "enter the num of students subscribed eng5\n",
      "1 2 3 4 5\n",
      "enter the num of students subscribed french5\n",
      "4 5 6 7 8\n",
      "roll of students purchasing either french or eng {1, 2, 3, 6, 7, 8}\n",
      " number of students who purchased either english or french 6\n"
     ]
    }
   ],
   "source": [
    "n=int(input(\"enter the num of students subscribed eng\"))\n",
    "e=set(map(int,input().split()))\n",
    "\n",
    "b=int(input(\"enter the num of students subscribed french\"))\n",
    "f=set(map(int,input().split()))\n",
    "\n",
    "\n",
    "sym_diff=e.symmetric_difference(f)\n",
    "print(\"roll of students purchasing either french or eng\",sym_diff)\n",
    "\n",
    "print(\" number of students who purchased either english or french\",len(sym_diff))\n"
   ]
  },
  {
   "cell_type": "code",
   "execution_count": null,
   "metadata": {},
   "outputs": [],
   "source": []
  },
  {
   "cell_type": "markdown",
   "metadata": {},
   "source": [
    "# 16)set.mutation()"
   ]
  },
  {
   "cell_type": "code",
   "execution_count": 4,
   "metadata": {},
   "outputs": [
    {
     "name": "stdout",
     "output_type": "stream",
     "text": [
      "number of elements in first set5\n",
      "2 3 4 5 1\n",
      "enter the number of commands4\n",
      "6 4 8 1 \n",
      "intersection_update 10\n"
     ]
    },
    {
     "ename": "ValueError",
     "evalue": "invalid literal for int() with base 10: 'intersection_update'",
     "output_type": "error",
     "traceback": [
      "\u001b[1;31m---------------------------------------------------------------------------\u001b[0m",
      "\u001b[1;31mValueError\u001b[0m                                Traceback (most recent call last)",
      "\u001b[1;32m<ipython-input-4-b120c8ef2e23>\u001b[0m in \u001b[0;36m<module>\u001b[1;34m\u001b[0m\n\u001b[0;32m     26\u001b[0m \u001b[1;33m\u001b[0m\u001b[0m\n\u001b[0;32m     27\u001b[0m \u001b[1;32mfor\u001b[0m \u001b[0mi\u001b[0m \u001b[1;32min\u001b[0m \u001b[0mrange\u001b[0m\u001b[1;33m(\u001b[0m\u001b[0mN\u001b[0m\u001b[1;33m)\u001b[0m\u001b[1;33m:\u001b[0m\u001b[1;33m\u001b[0m\u001b[1;33m\u001b[0m\u001b[0m\n\u001b[1;32m---> 28\u001b[1;33m     \u001b[0mprint\u001b[0m\u001b[1;33m(\u001b[0m\u001b[0mfunc\u001b[0m\u001b[1;33m(\u001b[0m\u001b[1;33m)\u001b[0m\u001b[1;33m)\u001b[0m\u001b[1;33m\u001b[0m\u001b[1;33m\u001b[0m\u001b[0m\n\u001b[0m",
      "\u001b[1;32m<ipython-input-4-b120c8ef2e23>\u001b[0m in \u001b[0;36mfunc\u001b[1;34m()\u001b[0m\n\u001b[0;32m      2\u001b[0m     \u001b[0mol\u001b[0m\u001b[1;33m=\u001b[0m\u001b[0minput\u001b[0m\u001b[1;33m(\u001b[0m\u001b[1;33m)\u001b[0m\u001b[1;33m.\u001b[0m\u001b[0msplit\u001b[0m\u001b[1;33m(\u001b[0m\u001b[1;33m)\u001b[0m\u001b[1;33m\u001b[0m\u001b[1;33m\u001b[0m\u001b[0m\n\u001b[0;32m      3\u001b[0m     \u001b[0mopr\u001b[0m\u001b[1;33m=\u001b[0m\u001b[0mol\u001b[0m\u001b[1;33m[\u001b[0m\u001b[1;36m0\u001b[0m\u001b[1;33m]\u001b[0m\u001b[1;33m\u001b[0m\u001b[1;33m\u001b[0m\u001b[0m\n\u001b[1;32m----> 4\u001b[1;33m     \u001b[0mnewset\u001b[0m\u001b[1;33m=\u001b[0m\u001b[0mset\u001b[0m\u001b[1;33m(\u001b[0m\u001b[0mmap\u001b[0m\u001b[1;33m(\u001b[0m\u001b[0mint\u001b[0m\u001b[1;33m,\u001b[0m\u001b[0minput\u001b[0m\u001b[1;33m(\u001b[0m\u001b[1;33m)\u001b[0m\u001b[1;33m.\u001b[0m\u001b[0msplit\u001b[0m\u001b[1;33m(\u001b[0m\u001b[1;33m)\u001b[0m\u001b[1;33m)\u001b[0m\u001b[1;33m)\u001b[0m\u001b[1;33m\u001b[0m\u001b[1;33m\u001b[0m\u001b[0m\n\u001b[0m\u001b[0;32m      5\u001b[0m \u001b[1;33m\u001b[0m\u001b[0m\n\u001b[0;32m      6\u001b[0m     \u001b[1;32mif\u001b[0m \u001b[0mopr\u001b[0m\u001b[1;33m==\u001b[0m\u001b[1;34m\"intersection_update\"\u001b[0m\u001b[1;33m:\u001b[0m\u001b[1;33m\u001b[0m\u001b[1;33m\u001b[0m\u001b[0m\n",
      "\u001b[1;31mValueError\u001b[0m: invalid literal for int() with base 10: 'intersection_update'"
     ]
    }
   ],
   "source": [
    "def func():\n",
    "    ol=input().split()\n",
    "    opr=ol[0]\n",
    "    newset=set(map(int,input().split()))\n",
    "    \n",
    "    if opr==\"intersection_update\":\n",
    "        A.intersection_update(newset)\n",
    "        \n",
    "    elif opr==\"update\":\n",
    "        A.update(newset)\n",
    "        \n",
    "    elif opr==\"symmetric_difference_update\":\n",
    "        A.symmetric_difference_update(newset)\n",
    "        \n",
    "    elif opr==\"difference_update\":\n",
    "        A.difference_update(newset)\n",
    "        \n",
    "    return sum(a)     \n",
    "        \n",
    "\n",
    "\n",
    "na=int(input(\"number of elements in first set\"))\n",
    "A=set(map(int,input().split()))\n",
    "\n",
    "N=int(input(\"enter the number of commands\"))\n",
    "\n",
    "for i in range(N):\n",
    "    print(func())"
   ]
  },
  {
   "cell_type": "markdown",
   "metadata": {},
   "source": [
    "# 17)captian's room"
   ]
  },
  {
   "cell_type": "code",
   "execution_count": null,
   "metadata": {},
   "outputs": [],
   "source": []
  },
  {
   "cell_type": "markdown",
   "metadata": {},
   "source": [
    "# 18)check subset"
   ]
  },
  {
   "cell_type": "code",
   "execution_count": 23,
   "metadata": {},
   "outputs": [
    {
     "name": "stdout",
     "output_type": "stream",
     "text": [
      "number of elements in first set3\n",
      "1 2 3\n",
      "number of elements in second set5\n",
      "1 2 3 4 5\n",
      "True\n"
     ]
    }
   ],
   "source": [
    "na=int(input(\"number of elements in first set\"))\n",
    "A=set(map(int,input().split()))\n",
    "\n",
    "nb=int(input(\"number of elements in second set\"))\n",
    "b=set(map(int,input().split()))\n",
    "\n",
    "l=[]\n",
    "\n",
    "for i in A:\n",
    "    if i in b:\n",
    "        l.append(i)\n",
    "l=set(l)\n",
    "\n",
    "if l==A:\n",
    "    print(\"True\")\n",
    "else:\n",
    "    print(\"False\")"
   ]
  },
  {
   "cell_type": "markdown",
   "metadata": {},
   "source": [
    "# 19)strict superset"
   ]
  },
  {
   "cell_type": "code",
   "execution_count": 25,
   "metadata": {},
   "outputs": [
    {
     "name": "stdout",
     "output_type": "stream",
     "text": [
      "number of elements in first set3\n",
      "1 2 3\n",
      "number of elements in second set5\n",
      "1 2 3 4 5\n",
      "A is a subset\n",
      "b is a strictsuperset\n"
     ]
    }
   ],
   "source": [
    "na=int(input(\"number of elements in first set\"))\n",
    "A=set(map(int,input().split()))\n",
    "\n",
    "nb=int(input(\"number of elements in second set\"))\n",
    "b=set(map(int,input().split()))\n",
    "\n",
    "l=[]\n",
    "\n",
    "for i in A:\n",
    "    if i in b:\n",
    "        l.append(i)\n",
    "l=set(l)\n",
    "\n",
    "if l==A:\n",
    "    print(\"A is a subset\")\n",
    "    \n",
    "    if (len(b)>=(len(A)+1)):\n",
    "        print(\"b is a strictsuperset\")\n"
   ]
  },
  {
   "cell_type": "code",
   "execution_count": null,
   "metadata": {},
   "outputs": [],
   "source": []
  }
 ],
 "metadata": {
  "kernelspec": {
   "display_name": "Python 3",
   "language": "python",
   "name": "python3"
  },
  "language_info": {
   "codemirror_mode": {
    "name": "ipython",
    "version": 3
   },
   "file_extension": ".py",
   "mimetype": "text/x-python",
   "name": "python",
   "nbconvert_exporter": "python",
   "pygments_lexer": "ipython3",
   "version": "3.8.5"
  }
 },
 "nbformat": 4,
 "nbformat_minor": 4
}
