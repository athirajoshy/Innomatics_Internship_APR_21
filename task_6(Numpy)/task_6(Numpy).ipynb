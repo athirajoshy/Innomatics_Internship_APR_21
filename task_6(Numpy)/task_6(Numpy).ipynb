{
 "cells": [
  {
   "cell_type": "markdown",
   "metadata": {},
   "source": [
    "# Arrays\n",
    "\n"
   ]
  },
  {
   "cell_type": "code",
   "execution_count": 13,
   "metadata": {},
   "outputs": [
    {
     "name": "stdout",
     "output_type": "stream",
     "text": [
      "3 4 5 6\n",
      "[6. 5. 4. 3.]\n"
     ]
    }
   ],
   "source": [
    "import numpy as np\n",
    "\n",
    "def arrays(arr):\n",
    "    n=np.array(arr[::-1],float)\n",
    "    return n\n",
    "arr = input().strip().split(' ')\n",
    "final=arrays(arr)\n",
    "print(final)"
   ]
  },
  {
   "cell_type": "markdown",
   "metadata": {},
   "source": [
    "# Shape and Reshape\n",
    "\n"
   ]
  },
  {
   "cell_type": "code",
   "execution_count": 15,
   "metadata": {},
   "outputs": [
    {
     "name": "stdout",
     "output_type": "stream",
     "text": [
      "enter 9 numbers1 2 3 4 5 6 7 8 9\n",
      "[[1 2 3]\n",
      " [4 5 6]\n",
      " [7 8 9]]\n"
     ]
    }
   ],
   "source": [
    "import numpy as np\n",
    "\n",
    "def arrays(arr):\n",
    "    n=np.array(arr)\n",
    "    return np.reshape(n,(3,3))\n",
    "\n",
    "\n",
    "l=list(map(int,input(\"enter 9 numbers\").split()))\n",
    "\n",
    "final=arrays(l)\n",
    "print(final)"
   ]
  },
  {
   "cell_type": "markdown",
   "metadata": {},
   "source": [
    "# Transpose and Flatten\n",
    "\n"
   ]
  },
  {
   "cell_type": "code",
   "execution_count": 23,
   "metadata": {},
   "outputs": [
    {
     "name": "stdout",
     "output_type": "stream",
     "text": [
      "enter rows and columns:2 2\n",
      "2 2\n",
      "1 2\n",
      "3 4\n",
      "[[1 3]\n",
      " [2 4]]\n",
      "[1 2 3 4]\n"
     ]
    }
   ],
   "source": [
    "n,m=map(int,input(\"enter rows and columns:\").split())\n",
    "print(n,m)\n",
    "l=[]\n",
    "\n",
    "for i in range(0,n):\n",
    "    a=list(map(int,input().split()))\n",
    "    \n",
    "    l.append(a)\n",
    "arr=np.array(l)   \n",
    "print(np.transpose(arr))\n",
    "print(arr.flatten())\n",
    "    \n",
    "    "
   ]
  },
  {
   "cell_type": "markdown",
   "metadata": {},
   "source": [
    "# Concatenate"
   ]
  },
  {
   "cell_type": "code",
   "execution_count": 1,
   "metadata": {},
   "outputs": [
    {
     "name": "stdout",
     "output_type": "stream",
     "text": [
      "enter rows and columns:4 3 2\n",
      "4 3 2\n",
      "1 2\n",
      "1 2\n",
      "1 2\n",
      "1 2\n",
      "3 4\n",
      "3 4\n",
      "3 4\n"
     ]
    }
   ],
   "source": [
    "import numpy as np\n",
    "n,m,p=map(int,input(\"enter rows and columns:\").split())\n",
    "print(n,m,p)\n",
    "\n",
    "l=[]\n",
    "l1=[]\n",
    "\n",
    "for i in range(0,n):\n",
    "    a=list(map(int,input().split()))\n",
    "    l.append(a)\n",
    "    \n",
    "for i in range(0,m):\n",
    "    b=list(map(int,input().split()))\n",
    "    l1.append(b)   \n",
    "    \n",
    "a1=np.array(l)\n",
    "a2=np.array(l1)\n",
    "a3=np.concatenate((a1,a2),axis=0) \n",
    "    "
   ]
  },
  {
   "cell_type": "markdown",
   "metadata": {},
   "source": [
    "# Zeros and Ones"
   ]
  },
  {
   "cell_type": "code",
   "execution_count": 3,
   "metadata": {},
   "outputs": [
    {
     "name": "stdout",
     "output_type": "stream",
     "text": [
      "3 3 3\n",
      "[[[0 0 0]\n",
      "  [0 0 0]\n",
      "  [0 0 0]]\n",
      "\n",
      " [[0 0 0]\n",
      "  [0 0 0]\n",
      "  [0 0 0]]\n",
      "\n",
      " [[0 0 0]\n",
      "  [0 0 0]\n",
      "  [0 0 0]]]\n",
      "[[[1 1 1]\n",
      "  [1 1 1]\n",
      "  [1 1 1]]\n",
      "\n",
      " [[1 1 1]\n",
      "  [1 1 1]\n",
      "  [1 1 1]]\n",
      "\n",
      " [[1 1 1]\n",
      "  [1 1 1]\n",
      "  [1 1 1]]]\n"
     ]
    }
   ],
   "source": [
    "import numpy as np\n",
    "l=list(map(int,input().split()))\n",
    "print(np.zeros(l,np.int))\n",
    "print(np.ones(l,np.int))"
   ]
  },
  {
   "cell_type": "markdown",
   "metadata": {},
   "source": [
    "# Eye and Identity"
   ]
  },
  {
   "cell_type": "code",
   "execution_count": 10,
   "metadata": {},
   "outputs": [
    {
     "name": "stdout",
     "output_type": "stream",
     "text": [
      "enter rows and columns:3 3\n",
      "[[ 1.  0.  0.]\n",
      " [ 0.  1.  0.]\n",
      " [ 0.  0.  1.]]\n"
     ]
    }
   ],
   "source": [
    "import numpy as np\n",
    "n,m=map(int,input(\"enter rows and columns:\").split())\n",
    "np.set_printoptions(legacy='1.13')\n",
    "print(np.eye(n,m, k = 0))"
   ]
  },
  {
   "cell_type": "markdown",
   "metadata": {},
   "source": [
    "# Array Mathematics\n",
    "\n"
   ]
  },
  {
   "cell_type": "code",
   "execution_count": 11,
   "metadata": {},
   "outputs": [
    {
     "name": "stdout",
     "output_type": "stream",
     "text": [
      "enter rows and columns:1 4\n",
      "1 2 3 4\n",
      "5 6 7 8\n",
      "12 2 3 4 \n",
      "2 55 6 7\n",
      "2 3 4 5\n",
      "[[ 6  8 10 12]\n",
      " [13  4  6  8]\n",
      " [ 3 57  9 11]\n",
      " [ 3  5  7  9]]\n",
      "[[ -4  -4  -4  -4]\n",
      " [-11   0   0   0]\n",
      " [ -1 -53  -3  -3]\n",
      " [ -1  -1  -1  -1]]\n",
      "[[  5  12  21  32]\n",
      " [ 12   4   9  16]\n",
      " [  2 110  18  28]\n",
      " [  2   6  12  20]]\n",
      "[[ 0.2         0.33333333  0.42857143  0.5       ]\n",
      " [ 0.08333333  1.          1.          1.        ]\n",
      " [ 0.5         0.03636364  0.5         0.57142857]\n",
      " [ 0.5         0.66666667  0.75        0.8       ]]\n",
      "[[1 2 3 4]\n",
      " [1 0 0 0]\n",
      " [1 2 3 4]\n",
      " [1 2 3 4]]\n",
      "[[    1    64  2187 65536]\n",
      " [    1     4    27   256]\n",
      " [    1     0   729 16384]\n",
      " [    1     8    81  1024]]\n"
     ]
    }
   ],
   "source": [
    "import numpy as np\n",
    "n,m=map(int,input(\"enter rows and columns:\").split())\n",
    "\n",
    "l=[]\n",
    "\n",
    "for i in range(0,n):\n",
    "    a=list(map(int,input().split()))\n",
    "    \n",
    "    l.append(a)\n",
    "arr=np.array(l) \n",
    "\n",
    "l1=[]\n",
    "\n",
    "for i in range(0,m):\n",
    "    a=list(map(int,input().split()))\n",
    "    \n",
    "    l1.append(a)\n",
    "arr1=np.array(l1) \n",
    "\n",
    "print(np.add(arr,arr1),np.subtract(arr,arr1),np.multiply(arr,arr1),np.divide(arr,arr1),np.mod(arr,arr1),np.power(arr,arr1),sep='\\n')"
   ]
  },
  {
   "cell_type": "markdown",
   "metadata": {},
   "source": [
    "# Floor, Ceil and Rint"
   ]
  },
  {
   "cell_type": "code",
   "execution_count": 1,
   "metadata": {},
   "outputs": [
    {
     "name": "stdout",
     "output_type": "stream",
     "text": [
      "enter the numbers2.2 3.3 4.5 1.2 4.8 7.5\n",
      "[ 2.  3.  4.  1.  4.  7.]\n",
      "[ 3.  4.  5.  2.  5.  8.]\n",
      "[ 2.  3.  4.  1.  5.  8.]\n"
     ]
    }
   ],
   "source": [
    "import numpy as np\n",
    "np.set_printoptions(legacy='1.13')\n",
    "l=list(map(float,input(\"enter the numbers\").split()))\n",
    "\n",
    "m=np.array(l)\n",
    "\n",
    "print(np.floor(m))\n",
    "print(np.ceil(m))\n",
    "print(np.rint(m))\n",
    "\n"
   ]
  },
  {
   "cell_type": "markdown",
   "metadata": {},
   "source": [
    "# Sum and Prod"
   ]
  },
  {
   "cell_type": "code",
   "execution_count": 2,
   "metadata": {},
   "outputs": [
    {
     "name": "stdout",
     "output_type": "stream",
     "text": [
      "enter rows and columns:2 2\n",
      "1 2\n",
      "3 4\n",
      "[4 6]\n",
      "24\n"
     ]
    }
   ],
   "source": [
    "import numpy as np\n",
    "n,m=map(int,input(\"enter rows and columns:\").split())\n",
    "\n",
    "l=[]\n",
    "\n",
    "for i in range(0,n):\n",
    "    a=list(map(int,input().split()))\n",
    "    \n",
    "    l.append(a)\n",
    "arr=np.array(l) \n",
    "\n",
    "s=np.sum(arr, axis = 0) \n",
    "\n",
    "print(s)\n",
    "\n",
    "print(np.product(s))"
   ]
  },
  {
   "cell_type": "markdown",
   "metadata": {},
   "source": [
    "# Min and Max"
   ]
  },
  {
   "cell_type": "code",
   "execution_count": 3,
   "metadata": {},
   "outputs": [
    {
     "name": "stdout",
     "output_type": "stream",
     "text": [
      "enter rows and columns:4 2\n",
      "2 5\n",
      "3 7\n",
      "1 3\n",
      "4 0\n",
      "[2 3 1 0]\n",
      "3\n"
     ]
    }
   ],
   "source": [
    "import numpy as np\n",
    "n,m=map(int,input(\"enter rows and columns:\").split())\n",
    "\n",
    "l=[]\n",
    "\n",
    "for i in range(0,n):\n",
    "    a=list(map(int,input().split()))\n",
    "    \n",
    "    l.append(a)\n",
    "arr=np.array(l) \n",
    "\n",
    "m=np.min(arr,axis=1)\n",
    "#print(m)\n",
    "\n",
    "print(np.max(m))"
   ]
  },
  {
   "cell_type": "markdown",
   "metadata": {},
   "source": [
    "# Mean, Var, and Std\n",
    "\n"
   ]
  },
  {
   "cell_type": "code",
   "execution_count": 4,
   "metadata": {},
   "outputs": [
    {
     "name": "stdout",
     "output_type": "stream",
     "text": [
      "enter rows and columns:2 2\n",
      "1 2 \n",
      "3 4\n",
      "[1.5 3.5]\n",
      "[1. 1.]\n",
      "1.118033988749895\n"
     ]
    }
   ],
   "source": [
    "import numpy as np\n",
    "n,m=map(int,input(\"enter rows and columns:\").split())\n",
    "\n",
    "l=[]\n",
    "\n",
    "for i in range(0,n):\n",
    "    a=list(map(int,input().split()))\n",
    "    \n",
    "    l.append(a)\n",
    "arr=np.array(l) \n",
    "\n",
    "print(np.mean(arr,axis=1))\n",
    "print(np.var(arr,axis=0))\n",
    "print(np.std(arr,axis=None))"
   ]
  },
  {
   "cell_type": "markdown",
   "metadata": {},
   "source": [
    "# Dot and Cross\n",
    "\n"
   ]
  },
  {
   "cell_type": "code",
   "execution_count": 9,
   "metadata": {},
   "outputs": [
    {
     "name": "stdout",
     "output_type": "stream",
     "text": [
      "enter rows and columns:2 2\n",
      "1 2\n",
      "3 4\n",
      "1 2\n",
      "3 4\n",
      "[[ 7 10]\n",
      " [15 22]]\n"
     ]
    }
   ],
   "source": [
    "import numpy as np\n",
    "n,m=map(int,input(\"enter rows and columns:\").split())\n",
    "\n",
    "l=[]\n",
    "\n",
    "for i in range(0,n):\n",
    "    a=list(map(int,input().split()))\n",
    "    \n",
    "    l.append(a)\n",
    "arr=np.array(l) \n",
    "\n",
    "l1=[]\n",
    "\n",
    "for i in range(0,m):\n",
    "    a=list(map(int,input().split()))\n",
    "    \n",
    "    l1.append(a)\n",
    "arr1=np.array(l1) \n",
    "\n",
    "\n",
    "print (np.dot(arr,arr1))"
   ]
  },
  {
   "cell_type": "markdown",
   "metadata": {},
   "source": [
    "# inner and outer"
   ]
  },
  {
   "cell_type": "code",
   "execution_count": 10,
   "metadata": {},
   "outputs": [
    {
     "name": "stdout",
     "output_type": "stream",
     "text": [
      "enter rows and columns:1 2\n",
      "0 1\n",
      "2 3\n",
      "1 2\n",
      "[[3 2]]\n",
      "[[0 0 0 0]\n",
      " [2 3 1 2]]\n"
     ]
    }
   ],
   "source": [
    "import numpy as np\n",
    "n,m=map(int,input(\"enter rows and columns:\").split())\n",
    "\n",
    "l=[]\n",
    "\n",
    "for i in range(0,n):\n",
    "    a=list(map(int,input().split()))\n",
    "    \n",
    "    l.append(a)\n",
    "arr=np.array(l) \n",
    "\n",
    "l1=[]\n",
    "\n",
    "for i in range(0,m):\n",
    "    a=list(map(int,input().split()))\n",
    "    \n",
    "    l1.append(a)\n",
    "arr1=np.array(l1) \n",
    "\n",
    "\n",
    "print (np.inner(arr,arr1))\n",
    "\n",
    "print (np.outer(arr,arr1))"
   ]
  },
  {
   "cell_type": "markdown",
   "metadata": {},
   "source": [
    "# Polynomials"
   ]
  },
  {
   "cell_type": "code",
   "execution_count": 11,
   "metadata": {},
   "outputs": [
    {
     "name": "stdout",
     "output_type": "stream",
     "text": [
      "1.1 2 3\n",
      "0\n",
      "3.0\n"
     ]
    }
   ],
   "source": [
    "import numpy as np\n",
    "arr=np.array(input().split(),dtype=float)\n",
    "print(np.polyval(arr,int(input())))"
   ]
  },
  {
   "cell_type": "markdown",
   "metadata": {},
   "source": [
    "# Linear Algebra"
   ]
  },
  {
   "cell_type": "code",
   "execution_count": null,
   "metadata": {},
   "outputs": [],
   "source": []
  }
 ],
 "metadata": {
  "kernelspec": {
   "display_name": "Python 3",
   "language": "python",
   "name": "python3"
  },
  "language_info": {
   "codemirror_mode": {
    "name": "ipython",
    "version": 3
   },
   "file_extension": ".py",
   "mimetype": "text/x-python",
   "name": "python",
   "nbconvert_exporter": "python",
   "pygments_lexer": "ipython3",
   "version": "3.8.5"
  }
 },
 "nbformat": 4,
 "nbformat_minor": 4
}
